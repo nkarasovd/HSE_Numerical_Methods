{
 "cells": [
  {
   "cell_type": "markdown",
   "metadata": {},
   "source": [
    "# Карасов Николай Дмитриевич"
   ]
  },
  {
   "cell_type": "markdown",
   "metadata": {},
   "source": [
    "## Экзамен, задача №5"
   ]
  },
  {
   "cell_type": "markdown",
   "metadata": {},
   "source": [
    "## Импорты"
   ]
  },
  {
   "cell_type": "code",
   "execution_count": 2,
   "metadata": {},
   "outputs": [],
   "source": [
    "import numpy as np\n",
    "\n",
    "import matplotlib.pyplot as plt\n",
    "\n",
    "import time\n",
    "\n",
    "from typing import Tuple, List, NoReturn"
   ]
  },
  {
   "cell_type": "markdown",
   "metadata": {},
   "source": [
    "## Реализуем метод построения матрицы"
   ]
  },
  {
   "cell_type": "code",
   "execution_count": 3,
   "metadata": {},
   "outputs": [],
   "source": [
    "def build_matrix(n: int) -> Tuple:\n",
    "    A = np.zeros((n, n))\n",
    "    \n",
    "    # Главная диагональ\n",
    "    d_0 = np.full((n, 1), 2.0)\n",
    "    # Верхняя субдиагональ\n",
    "    d_1 = np.array([-1.0 for i in range(n)] + [0.0])\n",
    "    # Нижняя субдиагональ\n",
    "    d_2 = np.array([0.0] + [-1.0 for i in range(n)])\n",
    "    \n",
    "    for i in range(n):\n",
    "        for j in range(n):\n",
    "            if i == j:\n",
    "                A[i, j] = 2\n",
    "            elif np.abs(i - j) == 1:\n",
    "                A[i, j] = -1\n",
    "                \n",
    "    return A, d_1, d_0, d_2"
   ]
  },
  {
   "cell_type": "markdown",
   "metadata": {},
   "source": [
    "## Выведем матрицу и ее диагонали"
   ]
  },
  {
   "cell_type": "code",
   "execution_count": 4,
   "metadata": {},
   "outputs": [
    {
     "name": "stdout",
     "output_type": "stream",
     "text": [
      "[[ 2. -1.  0.  0.  0.]\n",
      " [-1.  2. -1.  0.  0.]\n",
      " [ 0. -1.  2. -1.  0.]\n",
      " [ 0.  0. -1.  2. -1.]\n",
      " [ 0.  0.  0. -1.  2.]]\n",
      "[-1. -1. -1. -1. -1.  0.]\n",
      "[[2.]\n",
      " [2.]\n",
      " [2.]\n",
      " [2.]\n",
      " [2.]]\n",
      "[ 0. -1. -1. -1. -1. -1.]\n"
     ]
    }
   ],
   "source": [
    "n = 5\n",
    "A, d_1, d_0, d_2 = build_matrix(n)\n",
    "print(A)\n",
    "print(d_1)\n",
    "print(d_0)\n",
    "print(d_2)"
   ]
  },
  {
   "cell_type": "markdown",
   "metadata": {},
   "source": [
    "## Реализуем метод Гаусса"
   ]
  },
  {
   "cell_type": "markdown",
   "metadata": {},
   "source": [
    "Обычный метод Гаусса."
   ]
  },
  {
   "cell_type": "code",
   "execution_count": 5,
   "metadata": {},
   "outputs": [],
   "source": [
    "def gauss_standart(A: np.ndarray, b: np.ndarray) -> np.ndarray:\n",
    "    A_with_b = np.concatenate((A, b), axis=1)\n",
    "\n",
    "    for j in range(A.shape[0]):\n",
    "        A_with_b[j] /= A_with_b[j, j]\n",
    "        # Просматриваем не все строки ниже, а только 1\n",
    "        for i in range(j + 1, min(j + 2, A_with_b.shape[0])):\n",
    "            A_with_b[i] -= A_with_b[j] * A_with_b[i, j]\n",
    "    print(A_with_b)\n",
    "    new_A = A_with_b[:, :-1]\n",
    "    new_b = A_with_b[:, -1]\n",
    "    \n",
    "    x = np.zeros(b.shape)\n",
    "    \n",
    "    # Обратный ход\n",
    "    x[-1] = new_b[-1] / new_A[-1, -1]\n",
    "    \n",
    "    for i in range(new_b.shape[0] - 1, -1, -1):\n",
    "        x[i] = 1.0 / new_A[i, i] * (new_b[i] - new_A[i, i + 1:] @ x[i + 1:])\n",
    "        \n",
    "    return x"
   ]
  },
  {
   "cell_type": "markdown",
   "metadata": {},
   "source": [
    "Метод Гаусса с учетом структуры матрицы."
   ]
  },
  {
   "cell_type": "code",
   "execution_count": 6,
   "metadata": {},
   "outputs": [],
   "source": [
    "def gauss_pro(A: np.ndarray, b_: np.ndarray, d_1: np.ndarray, d_0: np.ndarray, d_2: np.ndarray) -> np.ndarray:   \n",
    "    b = np.copy(b_)\n",
    "    \n",
    "    for j in range(A.shape[0]):\n",
    "        d_1[j] /= d_0[j]\n",
    "        d_2[j] /= d_0[j]\n",
    "        b[j] /= d_0[j]\n",
    "        d_0[j] = 1\n",
    "        if j + 1 < A.shape[0]:\n",
    "            b[j + 1] -= b[j] * d_2[j + 1]\n",
    "            d_0[j + 1] -= d_1[j] * d_2[j + 1]\n",
    "            d_2[j + 1] = 0\n",
    "\n",
    "    x = np.zeros(b.shape)\n",
    "    \n",
    "    # Обратный ход\n",
    "    x[-1] = b[-1] / d_0[-1, -1]\n",
    "    \n",
    "    for i in range(b.shape[0] - 1, -1, -1):\n",
    "        t = 0\n",
    "        if i + 1 < b.shape[0]:\n",
    "            t += d_1[i] * x[i + 1]\n",
    "        x[i] = 1.0 / d_0[i] * (b[i] - t)\n",
    "        \n",
    "    return x"
   ]
  },
  {
   "cell_type": "markdown",
   "metadata": {},
   "source": [
    "## Решим систему для небольшого значения n"
   ]
  },
  {
   "cell_type": "code",
   "execution_count": 7,
   "metadata": {},
   "outputs": [],
   "source": [
    "n = 5\n",
    "A, d_1, d_0, d_2 = build_matrix(n)\n",
    "b = np.ones((n, 1))"
   ]
  },
  {
   "cell_type": "code",
   "execution_count": 8,
   "metadata": {},
   "outputs": [],
   "source": [
    "answer = gauss_pro(A, b, d_1, d_0, d_2)\n",
    "answer_exact = np.linalg.solve(A, b)"
   ]
  },
  {
   "cell_type": "markdown",
   "metadata": {},
   "source": [
    "## Сравним с ответом `np.linalg.solve`"
   ]
  },
  {
   "cell_type": "code",
   "execution_count": 9,
   "metadata": {},
   "outputs": [
    {
     "name": "stdout",
     "output_type": "stream",
     "text": [
      "[[2.5 4.  4.5 4.  2.5]]\n",
      "[[2.5 4.  4.5 4.  2.5]]\n"
     ]
    }
   ],
   "source": [
    "print(answer.T)\n",
    "print(answer_exact.T)"
   ]
  },
  {
   "cell_type": "markdown",
   "metadata": {},
   "source": [
    "## Реализуем метод прогонки"
   ]
  },
  {
   "cell_type": "code",
   "execution_count": 10,
   "metadata": {},
   "outputs": [],
   "source": [
    "def tridiagonal_matrix_algorithm(d_1: np.ndarray, d_0: np.ndarray, d_2: np.ndarray, b: np.ndarray) -> np.ndarray:\n",
    "    alpha, beta = [-d_1[0] / d_0[0]], [b[0] / d_0[0]]\n",
    "    \n",
    "    n = b.shape[0]\n",
    "    x = np.zeros((n, 1))\n",
    "\n",
    "    for i in range(1, n):\n",
    "        alpha.append(-d_1[i] / (d_2[i] * alpha[i-1] + d_0[i]))\n",
    "        beta.append((b[i] - d_2[i] * beta[i-1]) / (d_2[i] * alpha[i-1] + d_0[i]))\n",
    "\n",
    "    x[n-1] = beta[n - 1]\n",
    "\n",
    "    for i in range(n-1, 0, -1):\n",
    "        x[i - 1] = alpha[i - 1]*x[i] + beta[i - 1]\n",
    "\n",
    "    return x"
   ]
  },
  {
   "cell_type": "code",
   "execution_count": 11,
   "metadata": {},
   "outputs": [],
   "source": [
    "n = 5\n",
    "A, d_1, d_0, d_2 = build_matrix(n)\n",
    "b = np.ones((n, 1))"
   ]
  },
  {
   "cell_type": "markdown",
   "metadata": {},
   "source": [
    "## Проверим ответ"
   ]
  },
  {
   "cell_type": "code",
   "execution_count": 12,
   "metadata": {},
   "outputs": [
    {
     "name": "stdout",
     "output_type": "stream",
     "text": [
      "[[2.5 4.  4.5 4.  2.5]]\n"
     ]
    }
   ],
   "source": [
    "answer = tridiagonal_matrix_algorithm(d_1, d_0, d_2, b)\n",
    "print(answer.T)"
   ]
  },
  {
   "cell_type": "markdown",
   "metadata": {},
   "source": [
    "## Время работы"
   ]
  },
  {
   "cell_type": "code",
   "execution_count": 13,
   "metadata": {},
   "outputs": [],
   "source": [
    "def plot_error_with_n(N_grid: List) -> NoReturn: \n",
    "    time_gauss = []\n",
    "    time_tma = []\n",
    "    \n",
    "    plt.figure(figsize=(16,8))\n",
    "    \n",
    "    for N in N_grid:\n",
    "        \n",
    "        A, d_1, d_0, d_2 = build_matrix(N)\n",
    "        b = np.ones((N, 1))\n",
    "        \n",
    "        start = time.time()\n",
    "        # Усредним время\n",
    "        for _ in range(25):\n",
    "            _ = gauss_pro(A, b, d_1, d_0, d_2)\n",
    "            \n",
    "        time_gauss.append((time.time() - start) / 25)\n",
    "        \n",
    "        start = time.time()\n",
    "        for _ in range(25):\n",
    "            _ = tridiagonal_matrix_algorithm(d_1, d_0, d_2, b)\n",
    "            \n",
    "        time_tma.append((time.time() - start) / 25)\n",
    "\n",
    "    x = N_grid\n",
    "\n",
    "    plt.plot (x, time_gauss, label = f'gauss', linewidth=3)\n",
    "    \n",
    "    plt.plot (x, time_tma, label = f'tma', linewidth=3)\n",
    "    plt.xlabel('Размер матрицы', fontsize=15)\n",
    "    plt.ylabel('Время работы', fontsize=15)\n",
    "    plt.xticks(fontsize=15)\n",
    "    plt.yticks(fontsize=12)\n",
    "    plt.grid()\n",
    "    plt.legend(fontsize=15)\n",
    "    plt.title(f'Зависимость времени работы от размера матрицы', fontsize=15)\n",
    "    plt.show()"
   ]
  },
  {
   "cell_type": "code",
   "execution_count": 14,
   "metadata": {},
   "outputs": [
    {
     "data": {
      "image/png": "[encoded data removed]",
      "text/plain": [
       "<Figure size 1152x576 with 1 Axes>"
      ]
     },
     "metadata": {
      "needs_background": "light"
     },
     "output_type": "display_data"
    },
    {
     "name": "stdout",
     "output_type": "stream",
     "text": [
      "CPU times: user 1min 12s, sys: 191 ms, total: 1min 12s\n",
      "Wall time: 1min 12s\n"
     ]
    }
   ],
   "source": [
    "%%time\n",
    "N_grid = [10, 20, 50, 100, 500, 1000, 2000, 3000, 4000, 5000]\n",
    "plot_error_with_n(N_grid)"
   ]
  }
 ],
 "metadata": {
  "kernelspec": {
   "display_name": "Python 3",
   "language": "python",
   "name": "python3"
  },
  "language_info": {
   "codemirror_mode": {
    "name": "ipython",
    "version": 3
   },
   "file_extension": ".py",
   "mimetype": "text/x-python",
   "name": "python",
   "nbconvert_exporter": "python",
   "pygments_lexer": "ipython3",
   "version": "3.8.3"
  }
 },
 "nbformat": 4,
 "nbformat_minor": 4
}
